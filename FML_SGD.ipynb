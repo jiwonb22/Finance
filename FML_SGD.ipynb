{
  "nbformat": 4,
  "nbformat_minor": 0,
  "metadata": {
    "colab": {
      "name": "FML_SGD.ipynb",
      "private_outputs": true,
      "provenance": [],
      "collapsed_sections": []
    },
    "kernelspec": {
      "name": "python3",
      "display_name": "Python 3"
    },
    "language_info": {
      "name": "python"
    }
  },
  "cells": [
    {
      "cell_type": "code",
      "metadata": {
        "id": "tnqs2aSoNH8p"
      },
      "source": [
        "##!\n",
        "##행렬 연산\n",
        "import numpy as np\n",
        "\n",
        "A = np.array([[1, 2], [3, 1]])\n",
        "B = np.array([[1, 5], [1, 2], [1, -1]])\n",
        "C = np.array([[1, 2], [3, 1]])\n",
        "y = np.array([[-1], [5], [2]])\n",
        "w = np.array([[-1],[2]])\n",
        "\n",
        "print(B@A) #BA \n",
        "\n",
        "print(B.dot(A))  #BA\n",
        "\n",
        "print(np.dot(B, A))  #BA\n",
        "\n",
        "print(B@w)"
      ],
      "execution_count": null,
      "outputs": []
    },
    {
      "cell_type": "code",
      "metadata": {
        "id": "GV8nVSSDOdMx"
      },
      "source": [
        "y.T # transpose 전환행렬 "
      ],
      "execution_count": null,
      "outputs": []
    },
    {
      "cell_type": "code",
      "metadata": {
        "id": "DVYidD0bOks3"
      },
      "source": [
        "ainv=np.linalg.inv(A) # 역행렬\n",
        "ainv"
      ],
      "execution_count": null,
      "outputs": []
    },
    {
      "cell_type": "code",
      "metadata": {
        "id": "8GmOse5qOnBn"
      },
      "source": [
        "y2=y.T@y # 제곱합 y'y \n",
        "y2"
      ],
      "execution_count": null,
      "outputs": []
    },
    {
      "cell_type": "code",
      "metadata": {
        "id": "qebNUQidOrkl"
      },
      "source": [
        "theta = np.linalg.inv(B.T.dot(B)).dot(B.T).dot(y) \n",
        "#OLS estimates ( theta =(X'X)^(-1)X'y )\n",
        "theta"
      ],
      "execution_count": null,
      "outputs": []
    },
    {
      "cell_type": "code",
      "metadata": {
        "id": "mHTHggakOx90"
      },
      "source": [
        "y_pred = B@theta # y 예측값\n",
        "y_pred"
      ],
      "execution_count": null,
      "outputs": []
    },
    {
      "cell_type": "code",
      "metadata": {
        "id": "Sa2isnXDO1Bd"
      },
      "source": [
        "e = y-y_pred # 잔차 residual\n",
        "e"
      ],
      "execution_count": null,
      "outputs": []
    },
    {
      "cell_type": "code",
      "metadata": {
        "id": "Y9P6eU9yO4pl"
      },
      "source": [
        "ssr=e.T@e #잔차제곱합(e'e) sum of squared residulas\n",
        "ssr"
      ],
      "execution_count": null,
      "outputs": []
    },
    {
      "cell_type": "code",
      "metadata": {
        "id": "XebwS7KLO8T-"
      },
      "source": [
        "# !모든 변수 clear\n",
        "\n",
        "all =[var for var in globals() if var[0] !=\"_\"]\n",
        "for var in all:\n",
        "  del globals()[var]"
      ],
      "execution_count": null,
      "outputs": []
    },
    {
      "cell_type": "code",
      "metadata": {
        "id": "PujanLJHPJ8b"
      },
      "source": [
        "##2\n",
        "##Gradient Descent 예제\n",
        "\n",
        "#NumPy의 random 서브패키지에서 제공하는 난수발생 함수 use\n",
        "#rand: 0부터 1사이의 균일 분포: N(0,1)  \n",
        "#randn: 가우시안 표준 정규 분포\n",
        "# x = 2e1  &  y = 3x + 10 + e2  -> (-3,3)에 99%, (-2,2)에 95%, (-1,1)에 68%\n",
        "import numpy as np\n",
        "import matplotlib.pyplot as plt \n",
        "%matplotlib inline \n",
        "plt.style.use(['ggplot'])  #library 지정\n",
        "\n",
        "np.random.seed(456)   #seed 지정: 매번 같은 수 이용\n",
        "\n",
        "x = 2 * np.random.rand(100,1)   #uniform dstn\n",
        "y = 3 * x + 10 + np.random.randn(100,1) #randn: standard normal dstn\n",
        "\n",
        "plt.plot(x,y,'b.') \n",
        "plt.xlabel(\"$x$\")\n",
        "plt.ylabel(\"$y$\",rotation=0)"
      ],
      "execution_count": null,
      "outputs": []
    },
    {
      "cell_type": "code",
      "metadata": {
        "id": "G3HHlwO6QJeH"
      },
      "source": [
        "##Normal Equation을 활용한 추정치 (OLS 추정치)\n",
        "\n",
        "# Normal Equation; OLS estimates ( theta =(X'X)^(-1)X'y )\n",
        " \n",
        "X_b = np.c_[np.ones((100,1)),x]\n",
        "theta_ols = np.linalg.inv(X_b.T.dot(X_b)).dot(X_b.T).dot(y)\n",
        "print(theta_ols)\n"
      ],
      "execution_count": null,
      "outputs": []
    },
    {
      "cell_type": "code",
      "metadata": {
        "id": "T8TmetX2QV2H"
      },
      "source": [
        "# Normal Equation을 이용한 추정치 (OLS 추정치)를 적용한 y의 예측값\n",
        "\n",
        "y_predicted = X_b@theta_ols\n",
        "\n",
        "plt.plot(x,y_predicted,'r-') # x: column vector, X (100, 2)차원 행렬\n",
        "plt.plot(x,y,'b.')\n",
        "plt.xlabel(\"$x$\")\n",
        "plt.ylabel(\"$y$\", rotation=0)\n"
      ],
      "execution_count": null,
      "outputs": []
    },
    {
      "cell_type": "markdown",
      "metadata": {
        "id": "Rwn_ROmr2Ouy"
      },
      "source": [
        ""
      ]
    },
    {
      "cell_type": "code",
      "metadata": {
        "id": "0yW8-9EgQahi"
      },
      "source": [
        "##Gradient Descent 함수 정의\n",
        "#비용함수\n",
        "def gradient_descent(X,y, theta, lr, n_iter):\n",
        " \n",
        "    cost_gd = np.zeros(n_iter)   # 비용함수에 대해서 임의의 초기값 부여 \n",
        "    theta_gd = np.zeros((n_iter,2))   # 추정치에 대해서 임의의 초기값 부여 \n",
        "    m = len(X)\n",
        "    \n",
        "    for i in range(n_iter):\n",
        "        y_predicted = np.dot(X,theta)\n",
        "        cost = (1/2*m) * np.sum(np.square(y_predicted-y)) # (1/2*m) * np.sum(np.square(y_predicted-y))\n",
        "        theta_d = (1/m)*sum(X.T.dot(y_predicted-y))\n",
        "        theta = theta - lr*theta_d\n",
        "        \n",
        "        theta_gd[i,:] = theta.T\n",
        "        cost_gd[i] = cost\n",
        "\n",
        "    return theta, cost_gd, theta_gd"
      ],
      "execution_count": null,
      "outputs": []
    },
    {
      "cell_type": "code",
      "metadata": {
        "id": "-4yV7PrhQlam"
      },
      "source": [
        "lr=0.01\n",
        "n_iter = 1000\n",
        "theta=np.random.randn(2,1)\n",
        "\n",
        "X_b = np.c_[np.ones((len(x),1)),x]\n",
        "theta,cost_gd,theta_gd = gradient_descent(X_b,y,theta,lr,n_iter)\n",
        "\n",
        "print('Theta0:            {:0.3f}, \\nTheta1:            {:0.3f}'.format(theta[0][0], theta[1][0]) )\n",
        "print('Final cost/MSE:    {:0.3f}'.format(cost_gd[-1]))"
      ],
      "execution_count": null,
      "outputs": []
    },
    {
      "cell_type": "code",
      "metadata": {
        "id": "w6um9xupQrI0"
      },
      "source": [
        "# 반복에 따른 비용함 추이를 그래프를 통해서 알아보자 (the cost history over iterations )\n",
        "\n",
        "fig,ax = plt.subplots(figsize=(12,8))\n",
        "\n",
        "ax.set_ylabel('J(Theta)')\n",
        "ax.set_xlabel('Iterations')\n",
        "_=ax.plot(range(n_iter),cost_gd,'b.')"
      ],
      "execution_count": null,
      "outputs": []
    },
    {
      "cell_type": "code",
      "metadata": {
        "id": "tFdZwMANQu4h"
      },
      "source": [
        "# After around 150 iterations the cost is flat \n",
        "# 200회 정도까지만 자세히 살펴보자 \n",
        "\n",
        "fig,ax = plt.subplots(figsize=(10,8))\n",
        "_=ax.plot(range(200),cost_gd[:200],'b.')\n",
        "# 비용함수가 초기에 급격하게 감소하기 때문에 추가적인 interation의 편익은 거의 없다. "
      ],
      "execution_count": null,
      "outputs": []
    },
    {
      "cell_type": "code",
      "metadata": {
        "id": "Xp7MRsLJQ34O"
      },
      "source": [
        "# 이제 학습률과 iteration이 동시에 변경되는 경우, Gradient 추이를 살펴보자. \n",
        "# 학습률과 iteration이 동시에 변경되는 경우, gradient가 실제로 어떻게 작동하는지 보여주는 함수를 만들어 보겠습니다.\n",
        "def plot_GD(n_iter,lr,ax,ax1=None):\n",
        "     \"\"\"\n",
        "     n_iter = no of iterations\n",
        "     lr = Learning Rate\n",
        "     ax = Axis to plot the Gradient Descent\n",
        "     ax1 = Axis to plot cost_history vs Iterations plot\n",
        "\n",
        "     \"\"\"\n",
        "     _ = ax.plot(x,y,'b.')\n",
        "     theta = np.random.randn(2,1)\n",
        "\n",
        "     tr =0.1\n",
        "     cost_gd = np.zeros(n_iter)\n",
        "     for i in range(n_iter):\n",
        "        pred_prev = X_b.dot(theta)\n",
        "        theta,h,_ = gradient_descent(X_b,y,theta,lr,1)\n",
        "        pred = X_b.dot(theta)\n",
        "\n",
        "        cost_gd[i] = h[0]\n",
        "\n",
        "        if ((i % 25 == 0) ):\n",
        "            _ = ax.plot(x,pred,'r-',alpha=tr)\n",
        "            if tr < 0.8:\n",
        "                tr = tr+0.2\n",
        "     if not ax1== None:\n",
        "        _ = ax1.plot(range(n_iter),cost_gd,'b.')"
      ],
      "execution_count": null,
      "outputs": []
    },
    {
      "cell_type": "code",
      "metadata": {
        "id": "kmQfT6KRQ_y9"
      },
      "source": [
        "# 위 결과를 그래프로 나타내 보아요. \n",
        "fig = plt.figure(figsize=(30,25),dpi=200)\n",
        "fig.subplots_adjust(hspace=0.4, wspace=0.4)\n",
        "\n",
        "it_lr =[(2000,0.001),(500,0.01),(200,0.05),(100,0.1)]\n",
        "count =0\n",
        "for n_iter, lr in it_lr:\n",
        "    count += 1\n",
        "    \n",
        "    ax = fig.add_subplot(4, 2, count)\n",
        "    count += 1\n",
        "   \n",
        "    ax1 = fig.add_subplot(4,2,count)\n",
        "    \n",
        "    ax.set_title(\"lr:{}\".format(lr))\n",
        "    ax1.set_title(\"Iterations:{}\".format(n_iter))\n",
        "    plot_GD(n_iter,lr,ax,ax1)"
      ],
      "execution_count": null,
      "outputs": []
    },
    {
      "cell_type": "code",
      "metadata": {
        "id": "V9JMM1-bRDNq"
      },
      "source": [
        "# 그래프 확대하여 보기\n",
        "\n",
        "_,ax = plt.subplots(figsize=(14,10))\n",
        "plot_GD(100,0.1,ax)"
      ],
      "execution_count": null,
      "outputs": []
    },
    {
      "cell_type": "code",
      "metadata": {
        "id": "pD6Ew6SIRMot"
      },
      "source": [
        "##참고 1: Stochastic Gradient Descent\n",
        "def  cal_cost(theta,X,y):\n",
        "    '''\n",
        "    \n",
        "    Calculates the cost for given X and Y. The following shows and example of a single dimensional X\n",
        "    theta = Vector of thetas \n",
        "    X     = Row of X's np.zeros((2,j))\n",
        "    y     = Actual y's np.zeros((2,1))\n",
        "    \n",
        "    where:\n",
        "        j is the no of features\n",
        "    '''\n",
        "    \n",
        "    m = len(y)\n",
        "    \n",
        "    predictions = X.dot(theta)\n",
        "    cost = (1/2*m) * np.sum(np.square(predictions-y))\n",
        "    return cost"
      ],
      "execution_count": null,
      "outputs": []
    },
    {
      "cell_type": "code",
      "metadata": {
        "id": "mODaWDbzRT9c"
      },
      "source": [
        "def stocashtic_gradient_descent(X,y,theta,learning_rate=0.01,iterations=10):\n",
        "    '''\n",
        "    X    = Matrix of X with added bias units\n",
        "    y    = Vector of Y\n",
        "    theta=Vector of thetas np.random.randn(j,1)\n",
        "    learning_rate \n",
        "    iterations = no of iterations\n",
        "    \n",
        "    Returns the final theta vector and array of cost history over no of iterations\n",
        "    '''\n",
        "    m = len(y)\n",
        "    cost_history = np.zeros(iterations)\n",
        "    \n",
        "    \n",
        "    for it in range(iterations):\n",
        "        cost =0.0\n",
        "        for i in range(m):\n",
        "            rand_ind = np.random.randint(0,m)\n",
        "            X_i = X[rand_ind,:].reshape(1,X.shape[1])\n",
        "            y_i = y[rand_ind].reshape(1,1)\n",
        "            prediction = np.dot(X_i,theta)\n",
        "\n",
        "            theta = theta -(1/m)*learning_rate*( X_i.T.dot((prediction - y_i)))\n",
        "            cost += cal_cost(theta,X_i,y_i)\n",
        "        cost_history[it]  = cost\n",
        "        \n",
        "    return theta, cost_history       "
      ],
      "execution_count": null,
      "outputs": []
    },
    {
      "cell_type": "code",
      "metadata": {
        "id": "r8SEQcD8RYzJ"
      },
      "source": [
        "# 일단 \n",
        "# 1000 반복, 학습률 0.01, theta:from a Gaussian distribution\n",
        "lr =0.01\n",
        "n_iter = 1000\n",
        "\n",
        "theta = np.random.randn(2,1)\n",
        "\n",
        "X_b = np.c_[np.ones((len(x),1)),x]\n",
        "theta,cost_history = stocashtic_gradient_descent(X_b,y,theta,lr,n_iter)\n",
        "\n",
        "\n",
        "print('Theta0:          {:0.3f},\\nTheta1:          {:0.3f}'.format(theta[0][0],theta[1][0]))\n",
        "print('Final cost/MSE:  {:0.3f}'.format(cost_history[-1]))"
      ],
      "execution_count": null,
      "outputs": []
    },
    {
      "cell_type": "code",
      "metadata": {
        "id": "uSnwEAN7Rgh6"
      },
      "source": [
        "# 반복횟수에 따른 비용함수 추이 그려보자 \n",
        "\n",
        "fig,ax = plt.subplots(figsize=(12,8))\n",
        "\n",
        "ax.set_ylabel('J(Theta)')\n",
        "ax.set_xlabel('Iterations')\n",
        "_=ax.plot(range(n_iter),cost_history,'b.')"
      ],
      "execution_count": null,
      "outputs": []
    },
    {
      "cell_type": "code",
      "metadata": {
        "id": "1u1Y6198Rj3J"
      },
      "source": [
        "# 확대해 보자: 150회 이후 편익 증가분 거의 없다.  \n",
        "\n",
        "fig,ax = plt.subplots(figsize=(10,8))\n",
        "_=ax.plot(range(200),cost_history[:200],'b.')"
      ],
      "execution_count": null,
      "outputs": []
    },
    {
      "cell_type": "code",
      "metadata": {
        "id": "D7LdIRjxRnDc"
      },
      "source": [
        "lr =0.5\n",
        "n_iter = 50\n",
        "\n",
        "theta = np.random.randn(2,1)\n",
        "\n",
        "X_b = np.c_[np.ones((len(x),1)),x]\n",
        "theta,cost_history = stocashtic_gradient_descent(X_b,y,theta,lr,n_iter)\n",
        "\n",
        "\n",
        "print('Theta0:          {:0.3f},\\nTheta1:          {:0.3f}'.format(theta[0][0],theta[1][0]))\n",
        "print('Final cost/MSE:  {:0.3f}'.format(cost_history[-1]))"
      ],
      "execution_count": null,
      "outputs": []
    },
    {
      "cell_type": "code",
      "metadata": {
        "id": "egbVwfF3Rq_E"
      },
      "source": [
        "fig,ax = plt.subplots(figsize=(10,8))\n",
        "\n",
        "ax.set_ylabel('J(Theta)',rotation=0)\n",
        "ax.set_xlabel('Iterations')\n",
        "theta = np.random.randn(2,1)\n",
        "\n",
        "_=ax.plot(range(n_iter),cost_history,'b.')"
      ],
      "execution_count": null,
      "outputs": []
    },
    {
      "cell_type": "code",
      "metadata": {
        "id": "Q7aweSf_Rt6d"
      },
      "source": [
        "##참고 2: Mini Batch Gradient Descent\n",
        "def minibatch_gradient_descent(X,y,theta,lr=0.01,n_iter=10,batch_size =20):\n",
        "    '''\n",
        "    X    = Matrix of X without added bias units\n",
        "    y    = Vector of Y\n",
        "    theta=Vector of thetas np.random.randn(j,1)\n",
        "    learning_rate \n",
        "    iterations = no of iterations\n",
        "    \n",
        "    Returns the final theta vector and array of cost history over no of iterations\n",
        "    '''\n",
        "    m = len(y)\n",
        "    cost_history = np.zeros(n_iter)\n",
        "    n_batches = int(m/batch_size)\n",
        "    \n",
        "    for it in range(n_iter):\n",
        "        cost =0.0\n",
        "        indices = np.random.permutation(m)\n",
        "#        X = X[indices]\n",
        "        X = x[indices]  # 앞부분에서 x 로 두었음 not X. \n",
        "        y = y[indices]\n",
        "        for i in range(0,m,batch_size):\n",
        "            X_i = X[i:i+batch_size]\n",
        "            y_i = y[i:i+batch_size]\n",
        "\n",
        "            X_i = np.c_[np.ones(len(X_i)),X_i]\n",
        "           \n",
        "            prediction = np.dot(X_i,theta)\n",
        "\n",
        "            theta = theta -(1/m)*lr*( X_i.T.dot((prediction - y_i)))\n",
        "            cost += cal_cost(theta,X_i,y_i)\n",
        "        cost_history[it]  = cost\n",
        "        \n",
        "    return theta, cost_history           "
      ],
      "execution_count": null,
      "outputs": []
    },
    {
      "cell_type": "code",
      "metadata": {
        "id": "V6rxIJBYR5Io"
      },
      "source": [
        "lr =0.1\n",
        "n_iter = 200\n",
        "\n",
        "theta = np.random.randn(2,1)\n",
        "\n",
        "\n",
        "theta,cost_history = minibatch_gradient_descent(X_b,y,theta,lr,n_iter)\n",
        "\n",
        "\n",
        "print('Theta0:          {:0.3f},\\nTheta1:          {:0.3f}'.format(theta[0][0],theta[1][0]))\n",
        "print('Final cost/MSE:  {:0.3f}'.format(cost_history[-1]))"
      ],
      "execution_count": null,
      "outputs": []
    },
    {
      "cell_type": "code",
      "metadata": {
        "id": "MLJ-8i_iR6FH"
      },
      "source": [
        "fig,ax = plt.subplots(figsize=(10,8))\n",
        "\n",
        "ax.set_ylabel('J(Theta)',rotation=0)\n",
        "ax.set_xlabel('Iterations')\n",
        "theta = np.random.randn(2,1)\n",
        "\n",
        "_=ax.plot(range(n_iter),cost_history,'b.')"
      ],
      "execution_count": null,
      "outputs": []
    }
  ]
}