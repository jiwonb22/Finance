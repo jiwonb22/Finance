{
  "nbformat": 4,
  "nbformat_minor": 0,
  "metadata": {
    "kernelspec": {
      "display_name": "Python 3",
      "language": "python",
      "name": "python3"
    },
    "language_info": {
      "codemirror_mode": {
        "name": "ipython",
        "version": 3
      },
      "file_extension": ".py",
      "mimetype": "text/x-python",
      "name": "python",
      "nbconvert_exporter": "python",
      "pygments_lexer": "ipython3",
      "version": "3.8.8"
    },
    "colab": {
      "name": "FAI 주가수익률 기초통계.ipynb",
      "provenance": [],
      "collapsed_sections": [
        "nRntx-FD-0qF",
        "JrLHsVgm-0qH",
        "4_4O1MJb-0qI",
        "_rdUAV7v-0qO",
        "YGH2kFI_-0qR",
        "o1X9wVPq-0qU",
        "V2wVA80D-0qX",
        "esb5sVtn-0qY"
      ]
    }
  },
  "cells": [
    {
      "cell_type": "markdown",
      "metadata": {
        "id": "ejL3-GFi-0pb"
      },
      "source": [
        "# FAI Lec 5-3 주가수익률 기초통계\n",
        "\n",
        "금융AI\n"
      ]
    },
    {
      "cell_type": "markdown",
      "metadata": {
        "id": "4HsICysr-0pr"
      },
      "source": [
        "### FinanceDataReader 설치 \n",
        "* FinanceData.KR Open Source Financial data reader \n",
        "* https://financedata.github.io/FinanceDataReader/\n",
        "* Install : \\$ pip install finance-datareader (혹은 conda install finance-datareader) \n",
        "* FinanceDataReader 설치 (for 구글 Colab) : !pip install -q finance-datareader    \n",
        "* 업그레이: \\$ pip install --upgrade finance-datareader"
      ]
    },
    {
      "cell_type": "markdown",
      "metadata": {
        "id": "2j-cfdQ0-0pu"
      },
      "source": [
        "## 오픈 API(Open Application Programming Interface, Open API, 공개 API)\n",
        "* 하나의 웹 사이트에서 자신이 가진 기능을 이용할 수 있도록 공개한 프로그래밍 인터페이스\n",
        "* 누구나 사용할 수 있도록 공개된 API를 말하며, 개발자에게 사유 응용 소프트웨어나 웹 서비스에 프로그래밍적인 권한을 제공\n",
        "* 예: 공공데이터포털 (https://www.data.go.kr/), 네이버지도\n",
        "* 데이터사용 증가에 따른 비용발생에 따라, 회원가입을 통한 공개키 발급, 유료화가 진행되기도 함\n",
        "\n",
        "* Yahoo Finance \n",
        "* Alpha Vantage \n",
        "* FinanceDataReader  "
      ]
    },
    {
      "cell_type": "markdown",
      "metadata": {
        "id": "NfzbZ6JW-0pw"
      },
      "source": [
        "## 변동성 지수 (Volatility Index) \n",
        "\n",
        "* VIX (Volatility Index)는 S&P500지수의 향후 30일 동안의 변동성에 대한 시장의 기대를 나타내는 지수 (미국 듀크 대학의 로버트 E. 웨일리 교수)\n",
        "* 1개월 잔존 만기 콜옵션과 풋옵션 가격으로 계산 (초기에는 내재변동성으로 계산했었음)\n",
        "* 1993년부터 시카고 옵션거래소(CBOE)에서 실시간으로 제공하고 있으며, 기초자산인 지수와 음(-)의 관계에 있음 \n",
        "* 공포지수 (fear gauge)라고도 불림\n",
        "* 한국 KOSPI200 ==> VKOSPI (2009년 4월부터 제공)\n",
        "* 프랑스 VCAC, 독일 VDAX, VSTOXX"
      ]
    },
    {
      "cell_type": "code",
      "metadata": {
        "colab": {
          "base_uri": "https://localhost:8080/",
          "height": 1000
        },
        "id": "13pTydR2-0py",
        "outputId": "aca14b5b-b7dd-4e1d-85bd-6e4f37676536"
      },
      "source": [
        "!pip install -U finance-datareader\n",
        "! pip install pandas-datareader\n",
        "! pip install yfinance"
      ],
      "execution_count": null,
      "outputs": [
        {
          "output_type": "stream",
          "name": "stdout",
          "text": [
            "Requirement already satisfied: finance-datareader in /usr/local/lib/python3.7/dist-packages (0.9.31)\n",
            "Requirement already satisfied: requests-file in /usr/local/lib/python3.7/dist-packages (from finance-datareader) (1.5.1)\n",
            "Requirement already satisfied: tqdm in /usr/local/lib/python3.7/dist-packages (from finance-datareader) (4.62.3)\n",
            "Requirement already satisfied: lxml in /usr/local/lib/python3.7/dist-packages (from finance-datareader) (4.2.6)\n",
            "Requirement already satisfied: pandas>=0.19.2 in /usr/local/lib/python3.7/dist-packages (from finance-datareader) (1.1.5)\n",
            "Requirement already satisfied: requests>=2.3.0 in /usr/local/lib/python3.7/dist-packages (from finance-datareader) (2.23.0)\n",
            "Requirement already satisfied: numpy>=1.15.4 in /usr/local/lib/python3.7/dist-packages (from pandas>=0.19.2->finance-datareader) (1.19.5)\n",
            "Requirement already satisfied: python-dateutil>=2.7.3 in /usr/local/lib/python3.7/dist-packages (from pandas>=0.19.2->finance-datareader) (2.8.2)\n",
            "Requirement already satisfied: pytz>=2017.2 in /usr/local/lib/python3.7/dist-packages (from pandas>=0.19.2->finance-datareader) (2018.9)\n",
            "Requirement already satisfied: six>=1.5 in /usr/local/lib/python3.7/dist-packages (from python-dateutil>=2.7.3->pandas>=0.19.2->finance-datareader) (1.15.0)\n",
            "Requirement already satisfied: certifi>=2017.4.17 in /usr/local/lib/python3.7/dist-packages (from requests>=2.3.0->finance-datareader) (2021.5.30)\n",
            "Requirement already satisfied: chardet<4,>=3.0.2 in /usr/local/lib/python3.7/dist-packages (from requests>=2.3.0->finance-datareader) (3.0.4)\n",
            "Requirement already satisfied: idna<3,>=2.5 in /usr/local/lib/python3.7/dist-packages (from requests>=2.3.0->finance-datareader) (2.10)\n",
            "Requirement already satisfied: urllib3!=1.25.0,!=1.25.1,<1.26,>=1.21.1 in /usr/local/lib/python3.7/dist-packages (from requests>=2.3.0->finance-datareader) (1.24.3)\n",
            "Requirement already satisfied: pandas-datareader in /usr/local/lib/python3.7/dist-packages (0.9.0)\n",
            "Requirement already satisfied: pandas>=0.23 in /usr/local/lib/python3.7/dist-packages (from pandas-datareader) (1.1.5)\n",
            "Requirement already satisfied: lxml in /usr/local/lib/python3.7/dist-packages (from pandas-datareader) (4.2.6)\n",
            "Requirement already satisfied: requests>=2.19.0 in /usr/local/lib/python3.7/dist-packages (from pandas-datareader) (2.23.0)\n",
            "Requirement already satisfied: python-dateutil>=2.7.3 in /usr/local/lib/python3.7/dist-packages (from pandas>=0.23->pandas-datareader) (2.8.2)\n",
            "Requirement already satisfied: pytz>=2017.2 in /usr/local/lib/python3.7/dist-packages (from pandas>=0.23->pandas-datareader) (2018.9)\n",
            "Requirement already satisfied: numpy>=1.15.4 in /usr/local/lib/python3.7/dist-packages (from pandas>=0.23->pandas-datareader) (1.19.5)\n",
            "Requirement already satisfied: six>=1.5 in /usr/local/lib/python3.7/dist-packages (from python-dateutil>=2.7.3->pandas>=0.23->pandas-datareader) (1.15.0)\n",
            "Requirement already satisfied: urllib3!=1.25.0,!=1.25.1,<1.26,>=1.21.1 in /usr/local/lib/python3.7/dist-packages (from requests>=2.19.0->pandas-datareader) (1.24.3)\n",
            "Requirement already satisfied: certifi>=2017.4.17 in /usr/local/lib/python3.7/dist-packages (from requests>=2.19.0->pandas-datareader) (2021.5.30)\n",
            "Requirement already satisfied: chardet<4,>=3.0.2 in /usr/local/lib/python3.7/dist-packages (from requests>=2.19.0->pandas-datareader) (3.0.4)\n",
            "Requirement already satisfied: idna<3,>=2.5 in /usr/local/lib/python3.7/dist-packages (from requests>=2.19.0->pandas-datareader) (2.10)\n",
            "Collecting yfinance\n",
            "  Downloading yfinance-0.1.64.tar.gz (26 kB)\n",
            "Requirement already satisfied: pandas>=0.24 in /usr/local/lib/python3.7/dist-packages (from yfinance) (1.1.5)\n",
            "Requirement already satisfied: numpy>=1.15 in /usr/local/lib/python3.7/dist-packages (from yfinance) (1.19.5)\n",
            "Requirement already satisfied: requests>=2.20 in /usr/local/lib/python3.7/dist-packages (from yfinance) (2.23.0)\n",
            "Requirement already satisfied: multitasking>=0.0.7 in /usr/local/lib/python3.7/dist-packages (from yfinance) (0.0.9)\n",
            "Collecting lxml>=4.5.1\n",
            "  Downloading lxml-4.6.3-cp37-cp37m-manylinux2014_x86_64.whl (6.3 MB)\n",
            "\u001b[K     |████████████████████████████████| 6.3 MB 16.8 MB/s \n",
            "\u001b[?25hRequirement already satisfied: pytz>=2017.2 in /usr/local/lib/python3.7/dist-packages (from pandas>=0.24->yfinance) (2018.9)\n",
            "Requirement already satisfied: python-dateutil>=2.7.3 in /usr/local/lib/python3.7/dist-packages (from pandas>=0.24->yfinance) (2.8.2)\n",
            "Requirement already satisfied: six>=1.5 in /usr/local/lib/python3.7/dist-packages (from python-dateutil>=2.7.3->pandas>=0.24->yfinance) (1.15.0)\n",
            "Requirement already satisfied: certifi>=2017.4.17 in /usr/local/lib/python3.7/dist-packages (from requests>=2.20->yfinance) (2021.5.30)\n",
            "Requirement already satisfied: idna<3,>=2.5 in /usr/local/lib/python3.7/dist-packages (from requests>=2.20->yfinance) (2.10)\n",
            "Requirement already satisfied: urllib3!=1.25.0,!=1.25.1,<1.26,>=1.21.1 in /usr/local/lib/python3.7/dist-packages (from requests>=2.20->yfinance) (1.24.3)\n",
            "Requirement already satisfied: chardet<4,>=3.0.2 in /usr/local/lib/python3.7/dist-packages (from requests>=2.20->yfinance) (3.0.4)\n",
            "Building wheels for collected packages: yfinance\n",
            "  Building wheel for yfinance (setup.py) ... \u001b[?25l\u001b[?25hdone\n",
            "  Created wheel for yfinance: filename=yfinance-0.1.64-py2.py3-none-any.whl size=24109 sha256=d7bf7bf9162ca1cc093f773df8bc34be81ba6c118b84d23145eb49ab56f34a29\n",
            "  Stored in directory: /root/.cache/pip/wheels/86/fe/9b/a4d3d78796b699e37065e5b6c27b75cff448ddb8b24943c288\n",
            "Successfully built yfinance\n",
            "Installing collected packages: lxml, yfinance\n",
            "  Attempting uninstall: lxml\n",
            "    Found existing installation: lxml 4.2.6\n",
            "    Uninstalling lxml-4.2.6:\n",
            "      Successfully uninstalled lxml-4.2.6\n",
            "Successfully installed lxml-4.6.3 yfinance-0.1.64\n"
          ]
        },
        {
          "output_type": "display_data",
          "data": {
            "application/vnd.colab-display-data+json": {
              "pip_warning": {
                "packages": [
                  "lxml"
                ]
              }
            }
          },
          "metadata": {}
        }
      ]
    },
    {
      "cell_type": "code",
      "metadata": {
        "id": "gf5la23N-0p3"
      },
      "source": [
        "# 먼저 필요한 library를 불러오자\n",
        "import FinanceDataReader as fdr \n",
        "import seaborn as sns\n",
        "import math\n",
        "import pandas_datareader as pdr\n",
        "import numpy as np\n",
        "import pandas as pd\n",
        "import matplotlib.pyplot as plt\n",
        "plt.style.use('fivethirtyeight')\n",
        "%matplotlib inline\n",
        "from datetime import datetime\n",
        "\n",
        "import yfinance as yf\n",
        "import yfinance as yf\n",
        "import pandas_datareader.data as pdr"
      ],
      "execution_count": null,
      "outputs": []
    },
    {
      "cell_type": "code",
      "metadata": {
        "colab": {
          "base_uri": "https://localhost:8080/",
          "height": 377
        },
        "id": "yWx2Omga-0p5",
        "outputId": "ad148aef-af01-4f24-9c55-3d8deb57bc5e"
      },
      "source": [
        "# 주가 데이터를 불러오자  \n",
        "# (yahoo finance open API, 공식적으로 없어졌지만, 비공식적으로 서비스는 제공되고 있음)\n",
        "\n",
        "#end = datetime.today()\n",
        "end = datetime(2021,9,30)\n",
        "start = datetime(2018,1,1)\n",
        "yf.pdr_override()\n",
        "\n",
        "kospi = pdr.get_data_yahoo('^KS11',data_source='yahoo',start=start,end=end) # KOSPI\n",
        "ss_yh = pdr.get_data_yahoo('005930.KS',data_source='yahoo',start=start,end=end) # YAHOO: amsung Electronics Co., Ltd. (원화 표시 KRW)\n",
        "ss_f = fdr.DataReader('005930', data_source='yahoo',start=start,end=end) # FDR: Samsung Electronics Co., Ltd. (원화 표시 KRW)\n",
        "hm = pdr.get_data_yahoo('005380.KS',data_source='yahoo',start=start,end=end) # Hyundai Motor Company (원화 표시 KRW)\n",
        "dm = pdr.get_data_yahoo('035720.KS', data_source='yahoo', start=start,end=end) # 다음 커뮤니케이션 \n",
        "\n",
        "\n",
        "snp = pdr.get_data_yahoo('^GSPC',data_source='yahoo',start=start,end=end) #S&P500\n",
        "nikkei = pdr.get_data_yahoo('^N225',data_source='yahoo',start=start,end=end) # Nikkei 225\n",
        "euronext = pdr.get_data_yahoo('^N100',data_source='yahoo',start=start,end=end) # EURONEXT 100\n",
        "vix = pdr.get_data_yahoo('^VIX',data_source='yahoo',start=start,end=end) # VIX\n",
        "\n",
        "kospi.head() "
      ],
      "execution_count": null,
      "outputs": [
        {
          "output_type": "stream",
          "name": "stdout",
          "text": [
            "[*********************100%***********************]  1 of 1 completed\n",
            "[*********************100%***********************]  1 of 1 completed\n",
            "[*********************100%***********************]  1 of 1 completed\n",
            "[*********************100%***********************]  1 of 1 completed\n",
            "[*********************100%***********************]  1 of 1 completed\n",
            "[*********************100%***********************]  1 of 1 completed\n",
            "[*********************100%***********************]  1 of 1 completed\n",
            "[*********************100%***********************]  1 of 1 completed\n"
          ]
        },
        {
          "output_type": "execute_result",
          "data": {
            "text/html": [
              "<div>\n",
              "<style scoped>\n",
              "    .dataframe tbody tr th:only-of-type {\n",
              "        vertical-align: middle;\n",
              "    }\n",
              "\n",
              "    .dataframe tbody tr th {\n",
              "        vertical-align: top;\n",
              "    }\n",
              "\n",
              "    .dataframe thead th {\n",
              "        text-align: right;\n",
              "    }\n",
              "</style>\n",
              "<table border=\"1\" class=\"dataframe\">\n",
              "  <thead>\n",
              "    <tr style=\"text-align: right;\">\n",
              "      <th></th>\n",
              "      <th>Open</th>\n",
              "      <th>High</th>\n",
              "      <th>Low</th>\n",
              "      <th>Close</th>\n",
              "      <th>Adj Close</th>\n",
              "      <th>Volume</th>\n",
              "    </tr>\n",
              "    <tr>\n",
              "      <th>Date</th>\n",
              "      <th></th>\n",
              "      <th></th>\n",
              "      <th></th>\n",
              "      <th></th>\n",
              "      <th></th>\n",
              "      <th></th>\n",
              "    </tr>\n",
              "  </thead>\n",
              "  <tbody>\n",
              "    <tr>\n",
              "      <th>2018-01-03</th>\n",
              "      <td>2484.629883</td>\n",
              "      <td>2493.399902</td>\n",
              "      <td>2481.909912</td>\n",
              "      <td>2486.350098</td>\n",
              "      <td>2486.350098</td>\n",
              "      <td>331100</td>\n",
              "    </tr>\n",
              "    <tr>\n",
              "      <th>2018-01-04</th>\n",
              "      <td>2502.500000</td>\n",
              "      <td>2502.500000</td>\n",
              "      <td>2466.449951</td>\n",
              "      <td>2466.459961</td>\n",
              "      <td>2466.459961</td>\n",
              "      <td>333800</td>\n",
              "    </tr>\n",
              "    <tr>\n",
              "      <th>2018-01-05</th>\n",
              "      <td>2476.850098</td>\n",
              "      <td>2497.520020</td>\n",
              "      <td>2475.510010</td>\n",
              "      <td>2497.520020</td>\n",
              "      <td>2497.520020</td>\n",
              "      <td>308800</td>\n",
              "    </tr>\n",
              "    <tr>\n",
              "      <th>2018-01-08</th>\n",
              "      <td>2510.699951</td>\n",
              "      <td>2515.370117</td>\n",
              "      <td>2494.179932</td>\n",
              "      <td>2513.280029</td>\n",
              "      <td>2513.280029</td>\n",
              "      <td>311400</td>\n",
              "    </tr>\n",
              "    <tr>\n",
              "      <th>2018-01-09</th>\n",
              "      <td>2510.729980</td>\n",
              "      <td>2524.729980</td>\n",
              "      <td>2498.409912</td>\n",
              "      <td>2510.229980</td>\n",
              "      <td>2510.229980</td>\n",
              "      <td>374300</td>\n",
              "    </tr>\n",
              "  </tbody>\n",
              "</table>\n",
              "</div>"
            ],
            "text/plain": [
              "                   Open         High  ...    Adj Close  Volume\n",
              "Date                                  ...                     \n",
              "2018-01-03  2484.629883  2493.399902  ...  2486.350098  331100\n",
              "2018-01-04  2502.500000  2502.500000  ...  2466.459961  333800\n",
              "2018-01-05  2476.850098  2497.520020  ...  2497.520020  308800\n",
              "2018-01-08  2510.699951  2515.370117  ...  2513.280029  311400\n",
              "2018-01-09  2510.729980  2524.729980  ...  2510.229980  374300\n",
              "\n",
              "[5 rows x 6 columns]"
            ]
          },
          "metadata": {},
          "execution_count": 15
        }
      ]
    },
    {
      "cell_type": "markdown",
      "metadata": {
        "id": "aFexwHPX-0p7"
      },
      "source": [
        "### Finance-datareader와 yahoo finance 데이터 셋 비교"
      ]
    },
    {
      "cell_type": "code",
      "metadata": {
        "id": "509yn4YD-0p9"
      },
      "source": [
        "ss_yh.head()"
      ],
      "execution_count": null,
      "outputs": []
    },
    {
      "cell_type": "code",
      "metadata": {
        "id": "-UfIRN3w-0p-"
      },
      "source": [
        "ss_f.head()"
      ],
      "execution_count": null,
      "outputs": []
    },
    {
      "cell_type": "code",
      "metadata": {
        "id": "K_HKNBFL-0qA"
      },
      "source": [
        "ss1=ss_yh[['Close']]\n",
        "plt.plot(ss1)"
      ],
      "execution_count": null,
      "outputs": []
    },
    {
      "cell_type": "code",
      "metadata": {
        "id": "rYhT6gP6-0qA"
      },
      "source": [
        "ss1a=ss_yh[['Adj Close']]\n",
        "plt.plot(ss1a)"
      ],
      "execution_count": null,
      "outputs": []
    },
    {
      "cell_type": "code",
      "metadata": {
        "id": "yZvJ9p-Y-0qB"
      },
      "source": [
        "ss2=ss_f[['Close']]\n",
        "plt.plot(ss2)"
      ],
      "execution_count": null,
      "outputs": []
    },
    {
      "cell_type": "code",
      "metadata": {
        "colab": {
          "base_uri": "https://localhost:8080/",
          "height": 235
        },
        "id": "bKo2TYOL-0qC",
        "outputId": "b77c7b1f-61cb-423a-8bc6-644c12e4b535"
      },
      "source": [
        "# Close price가 동일한 것으로 확인되었으니, 삼성전자 주가는 Close price를 사용하도록 해요 \n",
        "\n",
        "ss = ss_yh\n",
        "ss.head()"
      ],
      "execution_count": null,
      "outputs": [
        {
          "output_type": "execute_result",
          "data": {
            "text/html": [
              "<div>\n",
              "<style scoped>\n",
              "    .dataframe tbody tr th:only-of-type {\n",
              "        vertical-align: middle;\n",
              "    }\n",
              "\n",
              "    .dataframe tbody tr th {\n",
              "        vertical-align: top;\n",
              "    }\n",
              "\n",
              "    .dataframe thead th {\n",
              "        text-align: right;\n",
              "    }\n",
              "</style>\n",
              "<table border=\"1\" class=\"dataframe\">\n",
              "  <thead>\n",
              "    <tr style=\"text-align: right;\">\n",
              "      <th></th>\n",
              "      <th>Open</th>\n",
              "      <th>High</th>\n",
              "      <th>Low</th>\n",
              "      <th>Close</th>\n",
              "      <th>Adj Close</th>\n",
              "      <th>Volume</th>\n",
              "    </tr>\n",
              "    <tr>\n",
              "      <th>Date</th>\n",
              "      <th></th>\n",
              "      <th></th>\n",
              "      <th></th>\n",
              "      <th></th>\n",
              "      <th></th>\n",
              "      <th></th>\n",
              "    </tr>\n",
              "  </thead>\n",
              "  <tbody>\n",
              "    <tr>\n",
              "      <th>2000-01-04</th>\n",
              "      <td>6000.0</td>\n",
              "      <td>6110.0</td>\n",
              "      <td>5660.0</td>\n",
              "      <td>6110.0</td>\n",
              "      <td>4719.226562</td>\n",
              "      <td>74195000</td>\n",
              "    </tr>\n",
              "    <tr>\n",
              "      <th>2000-01-05</th>\n",
              "      <td>5800.0</td>\n",
              "      <td>6060.0</td>\n",
              "      <td>5520.0</td>\n",
              "      <td>5580.0</td>\n",
              "      <td>4309.866699</td>\n",
              "      <td>74680000</td>\n",
              "    </tr>\n",
              "    <tr>\n",
              "      <th>2000-01-06</th>\n",
              "      <td>5750.0</td>\n",
              "      <td>5780.0</td>\n",
              "      <td>5580.0</td>\n",
              "      <td>5620.0</td>\n",
              "      <td>4340.761719</td>\n",
              "      <td>54390000</td>\n",
              "    </tr>\n",
              "    <tr>\n",
              "      <th>2000-01-07</th>\n",
              "      <td>5560.0</td>\n",
              "      <td>5670.0</td>\n",
              "      <td>5360.0</td>\n",
              "      <td>5540.0</td>\n",
              "      <td>4278.972168</td>\n",
              "      <td>40305000</td>\n",
              "    </tr>\n",
              "    <tr>\n",
              "      <th>2000-01-10</th>\n",
              "      <td>5600.0</td>\n",
              "      <td>5770.0</td>\n",
              "      <td>5580.0</td>\n",
              "      <td>5770.0</td>\n",
              "      <td>4456.617188</td>\n",
              "      <td>46880000</td>\n",
              "    </tr>\n",
              "  </tbody>\n",
              "</table>\n",
              "</div>"
            ],
            "text/plain": [
              "              Open    High     Low   Close    Adj Close    Volume\n",
              "Date                                                             \n",
              "2000-01-04  6000.0  6110.0  5660.0  6110.0  4719.226562  74195000\n",
              "2000-01-05  5800.0  6060.0  5520.0  5580.0  4309.866699  74680000\n",
              "2000-01-06  5750.0  5780.0  5580.0  5620.0  4340.761719  54390000\n",
              "2000-01-07  5560.0  5670.0  5360.0  5540.0  4278.972168  40305000\n",
              "2000-01-10  5600.0  5770.0  5580.0  5770.0  4456.617188  46880000"
            ]
          },
          "metadata": {},
          "execution_count": 13
        }
      ]
    },
    {
      "cell_type": "markdown",
      "metadata": {
        "id": "OBDeDQMf-0qD"
      },
      "source": [
        "### 데이터 셋 정리 (인덱스, 개별 주식)"
      ]
    },
    {
      "cell_type": "code",
      "metadata": {
        "colab": {
          "base_uri": "https://localhost:8080/",
          "height": 339
        },
        "id": "BzCzqJUx-0qD",
        "outputId": "8e7ab1ca-a969-4dfa-cc8c-71fb0b567253"
      },
      "source": [
        "# Adjusted Cloase Price만을 따로 모아보아요. \n",
        "eqt1 = pd.merge(snp['Adj Close'].to_frame(), kospi['Adj Close'].to_frame(),left_index=True, right_index=True, how='inner')\n",
        "eqt1.columns=['SP500','KOSPI'] \n",
        "\n",
        "eqt2 = pd.merge(ss['Close'].to_frame(), hm['Adj Close'].to_frame(),left_index=True, right_index=True, how='inner') # 삼성전자는  Close price 사용 \n",
        "eqt2.columns=['ss','hm'] \n",
        "\n",
        "eqt3 = pd.merge(nikkei['Adj Close'].to_frame(), euronext['Adj Close'].to_frame(),left_index=True, right_index=True, how='inner')\n",
        "eqt3.columns=['nikkei','euronext'] \n",
        "\n",
        "eqt4 = pd.merge(vix['Adj Close'].to_frame(), dm['Adj Close'].to_frame(),left_index=True, right_index=True, how='inner')\n",
        "eqt4.columns=['VIX','dm'] \n",
        "\n",
        "eqt5 = pd.merge(eqt1, eqt2,left_index=True, right_index=True, how='inner')\n",
        "eqt6 = pd.merge(eqt3, eqt4,left_index=True, right_index=True, how='inner')\n",
        "eqt7 = pd.merge(eqt5, eqt6,left_index=True, right_index=True, how='inner')\n",
        "\n",
        "eqt7.head() \n",
        "\n",
        "#에러가 발생하여 eqt1 = pd.merge(snp['Adj Close'] -> eqt1 = pd.merge(snp['Adj Close'].to_frame()으로 수정"
      ],
      "execution_count": null,
      "outputs": [
        {
          "output_type": "execute_result",
          "data": {
            "text/html": [
              "<div>\n",
              "<style scoped>\n",
              "    .dataframe tbody tr th:only-of-type {\n",
              "        vertical-align: middle;\n",
              "    }\n",
              "\n",
              "    .dataframe tbody tr th {\n",
              "        vertical-align: top;\n",
              "    }\n",
              "\n",
              "    .dataframe thead th {\n",
              "        text-align: right;\n",
              "    }\n",
              "</style>\n",
              "<table border=\"1\" class=\"dataframe\">\n",
              "  <thead>\n",
              "    <tr style=\"text-align: right;\">\n",
              "      <th></th>\n",
              "      <th>SP500</th>\n",
              "      <th>KOSPI</th>\n",
              "      <th>ss</th>\n",
              "      <th>hm</th>\n",
              "      <th>nikkei</th>\n",
              "      <th>euronext</th>\n",
              "      <th>VIX</th>\n",
              "      <th>dm</th>\n",
              "    </tr>\n",
              "    <tr>\n",
              "      <th>Date</th>\n",
              "      <th></th>\n",
              "      <th></th>\n",
              "      <th></th>\n",
              "      <th></th>\n",
              "      <th></th>\n",
              "      <th></th>\n",
              "      <th></th>\n",
              "      <th></th>\n",
              "    </tr>\n",
              "  </thead>\n",
              "  <tbody>\n",
              "    <tr>\n",
              "      <th>2018-01-04</th>\n",
              "      <td>2723.989990</td>\n",
              "      <td>2466.459961</td>\n",
              "      <td>51080.0</td>\n",
              "      <td>134535.859375</td>\n",
              "      <td>23506.330078</td>\n",
              "      <td>1051.579956</td>\n",
              "      <td>9.22</td>\n",
              "      <td>31120.511719</td>\n",
              "    </tr>\n",
              "    <tr>\n",
              "      <th>2018-01-05</th>\n",
              "      <td>2743.149902</td>\n",
              "      <td>2497.520020</td>\n",
              "      <td>52120.0</td>\n",
              "      <td>136831.718750</td>\n",
              "      <td>23714.529297</td>\n",
              "      <td>1061.689941</td>\n",
              "      <td>9.22</td>\n",
              "      <td>31120.511719</td>\n",
              "    </tr>\n",
              "    <tr>\n",
              "      <th>2018-01-09</th>\n",
              "      <td>2751.290039</td>\n",
              "      <td>2510.229980</td>\n",
              "      <td>50400.0</td>\n",
              "      <td>140045.890625</td>\n",
              "      <td>23849.990234</td>\n",
              "      <td>1070.790039</td>\n",
              "      <td>10.08</td>\n",
              "      <td>31320.001953</td>\n",
              "    </tr>\n",
              "    <tr>\n",
              "      <th>2018-01-10</th>\n",
              "      <td>2748.229980</td>\n",
              "      <td>2499.750000</td>\n",
              "      <td>48840.0</td>\n",
              "      <td>142800.890625</td>\n",
              "      <td>23788.199219</td>\n",
              "      <td>1066.640015</td>\n",
              "      <td>9.82</td>\n",
              "      <td>29823.822266</td>\n",
              "    </tr>\n",
              "    <tr>\n",
              "      <th>2018-01-11</th>\n",
              "      <td>2767.560059</td>\n",
              "      <td>2487.909912</td>\n",
              "      <td>48240.0</td>\n",
              "      <td>142341.703125</td>\n",
              "      <td>23710.429688</td>\n",
              "      <td>1062.709961</td>\n",
              "      <td>9.88</td>\n",
              "      <td>28028.412109</td>\n",
              "    </tr>\n",
              "  </tbody>\n",
              "</table>\n",
              "</div>"
            ],
            "text/plain": [
              "                  SP500        KOSPI       ss  ...     euronext    VIX            dm\n",
              "Date                                           ...                                  \n",
              "2018-01-04  2723.989990  2466.459961  51080.0  ...  1051.579956   9.22  31120.511719\n",
              "2018-01-05  2743.149902  2497.520020  52120.0  ...  1061.689941   9.22  31120.511719\n",
              "2018-01-09  2751.290039  2510.229980  50400.0  ...  1070.790039  10.08  31320.001953\n",
              "2018-01-10  2748.229980  2499.750000  48840.0  ...  1066.640015   9.82  29823.822266\n",
              "2018-01-11  2767.560059  2487.909912  48240.0  ...  1062.709961   9.88  28028.412109\n",
              "\n",
              "[5 rows x 8 columns]"
            ]
          },
          "metadata": {},
          "execution_count": 17
        }
      ]
    },
    {
      "cell_type": "markdown",
      "metadata": {
        "id": "nRntx-FD-0qF"
      },
      "source": [
        "### 수익률을 계산해보아요. (연속시간)"
      ]
    },
    {
      "cell_type": "code",
      "metadata": {
        "id": "ZMALbenO-0qG"
      },
      "source": [
        "# 연속시간 수익률 (로그 차분)\n",
        "rtn= ( np.log(eqt7) - np.log(eqt7.shift(1)) )*100\n",
        "rtn.columns=['r_sp','r_kp','r_ss' ,'r_hm','r_nk','r_ux','r_vx','r_dm']\n",
        "rtn.head()"
      ],
      "execution_count": null,
      "outputs": []
    },
    {
      "cell_type": "code",
      "metadata": {
        "id": "NLgvo8qP-0qG"
      },
      "source": [
        "eqt = pd.merge(eqt7,rtn,left_index=True, right_index=True, how='inner')\n",
        "eqt.head()\n",
        "\n",
        "#wqt.to_csv(r'C:\\Users\\CAU\\Dropbox\\2020-2\\data\\stockdata.csv') # csv 파일로 내보내기 "
      ],
      "execution_count": null,
      "outputs": []
    },
    {
      "cell_type": "markdown",
      "metadata": {
        "id": "JrLHsVgm-0qH"
      },
      "source": [
        "### 참고로 개별적으로 수익률을 계산할 수도 있어요. "
      ]
    },
    {
      "cell_type": "code",
      "metadata": {
        "id": "0Fr8LSVn-0qI"
      },
      "source": [
        "# % 수익률 계산\n",
        "\n",
        "# 이산시간 % 수익률\n",
        "eqt7['rp_ksp'] = eqt7.KOSPI.pct_change()*100 \n",
        "eqt7['rp_snp'] = eqt7.SP500.pct_change()*100\n",
        "eqt7['rp_nk'] = eqt7.nikkei.pct_change()*100\n",
        "eqt7['rp_ux'] = eqt7.euronext.pct_change()*100\n",
        "eqt7['rp_vx'] = eqt7.VIX.pct_change()*100\n",
        "\n",
        "eqt7['rp_ss'] = eqt7.ss.pct_change()*100\n",
        "eqt7['rp_hm'] = eqt7.hm.pct_change()*100\n",
        "eqt7['rp_dm'] = eqt7.dm.pct_change()*100\n",
        "\n",
        "\n",
        "#연속시간 % 수익률 (로그 차분)\n",
        "eqt7['r_ksp'] = ( np.log(eqt7.KOSPI) - np.log(eqt7.KOSPI.shift(1)))*100\n",
        "eqt7['r_snp'] = ( np.log(eqt7.SP500) - np.log(eqt7.SP500.shift(1)) )*100\n",
        "eqt7['r_nk'] = ( np.log(eqt7.nikkei) - np.log(eqt7.nikkei.shift(1)) )*100\n",
        "eqt7['r_nk'] = ( np.log(eqt7.euronext) - np.log(eqt7.euronext.shift(1)) )*100\n",
        "eqt7['r_vx'] = ( np.log(eqt7.VIX) - np.log(eqt7.VIX.shift(1)) )*100\n",
        "\n",
        "eqt7['r_ss'] = ( np.log(eqt7.ss) - np.log(eqt7.ss.shift(1)) )*100\n",
        "eqt7['r_hm'] = ( np.log(eqt7.hm) - np.log(eqt7.hm.shift(1)) )*100\n",
        "eqt7['r_dm'] = ( np.log(eqt7.dm) - np.log(eqt7.dm.shift(1)) )*100\n",
        "\n",
        "eqt7.head()"
      ],
      "execution_count": null,
      "outputs": []
    },
    {
      "cell_type": "markdown",
      "metadata": {
        "id": "4_4O1MJb-0qI"
      },
      "source": [
        "### 주식 가격 데이터와 수익률 데이터를 구분해주어요"
      ]
    },
    {
      "cell_type": "code",
      "metadata": {
        "id": "qL26pIro-0qJ"
      },
      "source": [
        "pr = eqt[['SP500', 'KOSPI', 'nikkei','euronext', 'VIX','ss','hm','dm']]\n",
        "pr.head()"
      ],
      "execution_count": null,
      "outputs": []
    },
    {
      "cell_type": "code",
      "metadata": {
        "id": "3zRkWvEB-0qK"
      },
      "source": [
        "rt = eqt[['r_sp','r_kp','r_nk','r_ux','r_vx','r_ss' ,'r_hm','r_dm']]\n",
        "rt.head()"
      ],
      "execution_count": null,
      "outputs": []
    },
    {
      "cell_type": "markdown",
      "metadata": {
        "id": "At8zTkuP-0qK"
      },
      "source": [
        "## 주가수익률의 전형적인 특성 (stylized facts of stock returns)\n",
        "\n",
        "1. volatility clustering\n",
        "2. leverage effect: negative skewness, asymmetric\n",
        "3. Fat tail: leptokurtic     "
      ]
    },
    {
      "cell_type": "markdown",
      "metadata": {
        "id": "qQ6Bo5Pe-0qL"
      },
      "source": [
        "## 시각화 (Visualization)"
      ]
    },
    {
      "cell_type": "code",
      "metadata": {
        "id": "z2KzLNLJ-0qL"
      },
      "source": [
        "plt.plot(eqt)"
      ],
      "execution_count": null,
      "outputs": []
    },
    {
      "cell_type": "code",
      "metadata": {
        "id": "MXvWbuzG-0qL"
      },
      "source": [
        "plt.plot(pr)"
      ],
      "execution_count": null,
      "outputs": []
    },
    {
      "cell_type": "code",
      "metadata": {
        "id": "5TmKTCCM-0qM"
      },
      "source": [
        "# 초기시점을 0 으로 기준으로 잡고 상대 주가 (relative stock price) 를 표현해보자 \n",
        "\n",
        "pr_0 = pr / pr.iloc[0] - 1.0 \n"
      ],
      "execution_count": null,
      "outputs": []
    },
    {
      "cell_type": "code",
      "metadata": {
        "id": "FNm34UAz-0qN"
      },
      "source": [
        "# 상대가격을 그래프로 그려보아요. \n",
        "plt.rcParams['legend.fontsize'] = 16\n",
        "pr_0.plot( figsize=(16,10), fontsize=18)"
      ],
      "execution_count": null,
      "outputs": []
    },
    {
      "cell_type": "code",
      "metadata": {
        "scrolled": true,
        "id": "_Bc9DBbm-0qN"
      },
      "source": [
        "#  수익률 그래프도 그려보아요 \n",
        "#plt.rcParams['legend.fontsize'] = 16\n",
        "rt.plot( figsize=(16,10), fontsize=18)"
      ],
      "execution_count": null,
      "outputs": []
    },
    {
      "cell_type": "code",
      "metadata": {
        "id": "lMgxTzUs-0qN"
      },
      "source": [
        "plt.rcParams['legend.fontsize'] = 16\n",
        "eqt[['KOSPI','r_kp']].plot(subplots=True, style='b', figsize=(16,10), fontsize=18 )"
      ],
      "execution_count": null,
      "outputs": []
    },
    {
      "cell_type": "code",
      "metadata": {
        "id": "jEW6uc7b-0qO"
      },
      "source": [
        "fig, axs = plt.subplots(3, 1, figsize=(15,10), constrained_layout=True)\n",
        "fig.suptitle('KOSPI, VIX, and Return', fontsize=18)\n",
        "\n",
        "axs[0].plot(eqt.index, eqt['KOSPI'], 'g-', label='KOSPI')\n",
        "#plt.xlabel('xlabel', fontsize=18)\n",
        "#plt.ylabel('ylabel', fontsize=16)\n",
        "axs[0].set_title('KOSPI')\n",
        "axs[0].legend(['KOSPI'])\n",
        "\n",
        "axs[1].plot(eqt.index, eqt['VIX'], 'r-')\n",
        "axs[1].set_title('VIX')\n",
        "\n",
        "axs[2].plot(eqt.index, eqt['r_kp'], 'b-')\n",
        "axs[2].set_title('KOSPI Return')\n",
        "\n",
        "#plt.show()\n",
        "\n",
        "#plt.savefig('C:/Users/CAU/eqt_kospi_return.jpg', dpi=500)"
      ],
      "execution_count": null,
      "outputs": []
    },
    {
      "cell_type": "markdown",
      "metadata": {
        "id": "_rdUAV7v-0qO"
      },
      "source": [
        "### 주가와 주가수익률의 기초통계를 살펴보도록해요"
      ]
    },
    {
      "cell_type": "code",
      "metadata": {
        "id": "PGWwX7UJ-0qP"
      },
      "source": [
        "pr.describe()"
      ],
      "execution_count": null,
      "outputs": []
    },
    {
      "cell_type": "code",
      "metadata": {
        "id": "PZVdmKpC-0qP"
      },
      "source": [
        "rt.describe()"
      ],
      "execution_count": null,
      "outputs": []
    },
    {
      "cell_type": "code",
      "metadata": {
        "id": "pFQKB3AR-0qQ"
      },
      "source": [
        "print(rt.describe())\n",
        "print('skeness: ', rt.skew(axis=0))\n",
        "print('kurtosis: ', rt.kurtosis(axis=0))\n",
        "#print('autocorrelation: ', rt.autocorr(lag=1))"
      ],
      "execution_count": null,
      "outputs": []
    },
    {
      "cell_type": "code",
      "metadata": {
        "id": "eRvFRuf0-0qQ"
      },
      "source": [
        "# 우리가 원하는 통계량이 모두 포한된 기초통계표를 만들어 보아요 \n",
        "df=pr\n",
        "stats = df.describe()\n",
        "stats.loc['var'] = df.var().tolist()\n",
        "stats.loc['skew'] = df.skew().tolist()\n",
        "stats.loc['kurt'] = df.kurtosis().tolist()\n",
        "print(stats)"
      ],
      "execution_count": null,
      "outputs": []
    },
    {
      "cell_type": "code",
      "metadata": {
        "id": "E4h_rKxP-0qR"
      },
      "source": [
        "# 우리가 원하는 통계량이 모두 포한된 기초통계표를 만들어 보아요 \n",
        "df=rt\n",
        "stats = df.describe()\n",
        "stats.loc['var'] = df.var().tolist()\n",
        "stats.loc['skew'] = df.skew().tolist()\n",
        "stats.loc['kurt'] = df.kurtosis().tolist()\n",
        "print(stats)"
      ],
      "execution_count": null,
      "outputs": []
    },
    {
      "cell_type": "markdown",
      "metadata": {
        "id": "YGH2kFI_-0qR"
      },
      "source": [
        "### 데이터의 표본분포를 파악하기 위해서 히스토그램을 그려보아요. "
      ]
    },
    {
      "cell_type": "code",
      "metadata": {
        "id": "_Mf71lFT-0qS"
      },
      "source": [
        "# 주가의 분포를 파악하기 위해서 히스토그램을 그려보아요. \n",
        "plt.rcParams['legend.fontsize'] = 16\n",
        "\n",
        "sns.distplot(pr['SP500'],  label='S&P500', color='red') \n",
        "sns.distplot(pr['KOSPI'],  label='KOSPI', color='g')\n",
        "plt.xlabel('Price')\n",
        "plt.ylabel('Relative Freqeuncy')  "
      ],
      "execution_count": null,
      "outputs": []
    },
    {
      "cell_type": "code",
      "metadata": {
        "id": "YEjCsWWY-0qS"
      },
      "source": [
        "# Frequency\n",
        "\n",
        "sns.distplot(pr['SP500'], kde = False, label='S&P500')\n",
        "sns.distplot(pr['KOSPI'], kde = False, label='KOSPI')\n",
        "# Plot formatting\n",
        "plt.legend(prop={'size': 16})\n",
        "plt.title('Frequency: Price')\n",
        "plt.xlabel('Price')\n",
        "plt.ylabel('Freqeuncy')  "
      ],
      "execution_count": null,
      "outputs": []
    },
    {
      "cell_type": "code",
      "metadata": {
        "id": "HFxNncB8-0qS"
      },
      "source": [
        "# Kernel Density Estimation\n",
        "\n",
        "sns.distplot(pr['SP500'], hist = False, kde = True, label='S&P500')\n",
        "sns.distplot(pr['KOSPI'], hist = False, kde = True, label='KOSPI')\n",
        "# Plot formatting\n",
        "plt.legend(prop={'size': 16})\n",
        "plt.title('Histogram: Price')\n",
        "plt.xlabel('Price')\n",
        "plt.ylabel('Density')  "
      ],
      "execution_count": null,
      "outputs": []
    },
    {
      "cell_type": "code",
      "metadata": {
        "id": "OVq0qxgx-0qT"
      },
      "source": [
        "# 주가 수익률의 분포를 파악하기 위해서 히스토그램을 그려보아요. \n",
        "plt.rcParams['legend.fontsize'] = 16\n",
        "rt = rt.dropna(subset=['r_sp']) # <- 이 코드를 추가하여 NaN 제거\n",
        "sns.distplot(rt['r_sp'],label='S&P500', color='red') \n",
        "sns.distplot(rt['r_kp'],label='KOSPI', color='g')\n",
        "plt.xlabel('Return')\n",
        "plt.ylabel('Relative Freqeuncy')  "
      ],
      "execution_count": null,
      "outputs": []
    },
    {
      "cell_type": "code",
      "metadata": {
        "id": "7ICHsHv6-0qT"
      },
      "source": [
        "# Kernel Density Estimation\n",
        "\n",
        "sns.distplot(rt['r_sp'], hist = False, kde = True, label='S&P500')\n",
        "sns.distplot(rt['r_kp'], hist = False, kde = True, label='KOSPI')\n",
        "# Plot formatting\n",
        "plt.legend(prop={'size': 16})\n",
        "plt.title('Histogram: Return')\n",
        "plt.xlabel('Return')\n",
        "plt.ylabel('Density')  "
      ],
      "execution_count": null,
      "outputs": []
    },
    {
      "cell_type": "markdown",
      "metadata": {
        "id": "o1X9wVPq-0qU"
      },
      "source": [
        "### 상관관계에 대해서 살펴보아요. "
      ]
    },
    {
      "cell_type": "code",
      "metadata": {
        "id": "dvOHvXNk-0qU"
      },
      "source": [
        "pr.corr()"
      ],
      "execution_count": null,
      "outputs": []
    },
    {
      "cell_type": "code",
      "metadata": {
        "id": "RPDCUU3f-0qU"
      },
      "source": [
        "rt.corr()"
      ],
      "execution_count": null,
      "outputs": []
    },
    {
      "cell_type": "code",
      "metadata": {
        "id": "72Kcq9eU-0qV"
      },
      "source": [
        "sns.heatmap(pr.corr(), annot=True, cmap=\"YlGnBu\")\n",
        "plt.show()"
      ],
      "execution_count": null,
      "outputs": []
    },
    {
      "cell_type": "code",
      "metadata": {
        "id": "upcdrGCk-0qV"
      },
      "source": [
        "sns.heatmap(rt.corr(), annot=True, cmap=\"YlGnBu\")\n",
        "plt.show()"
      ],
      "execution_count": null,
      "outputs": []
    },
    {
      "cell_type": "code",
      "metadata": {
        "id": "0f2eJzOM-0qV"
      },
      "source": [
        "# pariplot: price\n",
        "\n",
        "sns.pairplot(pr )"
      ],
      "execution_count": null,
      "outputs": []
    },
    {
      "cell_type": "code",
      "metadata": {
        "id": "NKJMlzZ6-0qW"
      },
      "source": [
        "sns.lmplot(x=\"SP500\", y=\"ss\", data=pr, size=8) # height -> size\n",
        "plt.show()"
      ],
      "execution_count": null,
      "outputs": []
    },
    {
      "cell_type": "code",
      "metadata": {
        "id": "y1Ehs4gr-0qW"
      },
      "source": [
        "sns.lmplot(x=\"SP500\", y=\"nikkei\", size=8, data=pr)# height -> size\n",
        "plt.show()"
      ],
      "execution_count": null,
      "outputs": []
    },
    {
      "cell_type": "code",
      "metadata": {
        "id": "VoFNkQhZ-0qW"
      },
      "source": [
        "# pariplot: return\n",
        "sns.pairplot(rt)\n",
        "plt.show()"
      ],
      "execution_count": null,
      "outputs": []
    },
    {
      "cell_type": "code",
      "metadata": {
        "id": "rKs2KRSJSf00"
      },
      "source": [
        ""
      ],
      "execution_count": null,
      "outputs": []
    },
    {
      "cell_type": "markdown",
      "metadata": {
        "id": "V2wVA80D-0qX"
      },
      "source": [
        "### 이동평균(moving average; MA)에 대해서 알아보아요. "
      ]
    },
    {
      "cell_type": "code",
      "metadata": {
        "id": "MM4X3UIa-0qX"
      },
      "source": [
        "# 주가의 20일, 40일 이동평균\n",
        "\n",
        "pr[\"kp_20ma\"] = np.round(pr[\"KOSPI\"].rolling(window = 20, center = False).mean(), 5)\n",
        "pr[\"kp_40ma\"] = np.round(pr[\"KOSPI\"].rolling(window = 40, center = False).mean(), 5)\n",
        "\n",
        "pr[\"kp_20sig\"] = np.round(pr[\"KOSPI\"].rolling(window = 20, center = False).std(), 5)\n",
        "pr[\"kp_40sig\"] = np.round(pr[\"KOSPI\"].rolling(window = 40, center = False).std(), 5)\n",
        "\n",
        "pr.tail(10)"
      ],
      "execution_count": null,
      "outputs": []
    },
    {
      "cell_type": "code",
      "metadata": {
        "id": "w9vHZNqM-0qX"
      },
      "source": [
        "# 주가 수익률의 20일, 40일 이동평균\n",
        "\n",
        "rt[\"r_kp_20ma\"] = np.round(rt[\"r_kp\"].rolling(window = 20, center = False).mean(), 5)\n",
        "rt[\"r_kp_40ma\"] = np.round(rt[\"r_kp\"].rolling(window = 40, center = False).mean(), 5)\n",
        "\n",
        "rt[\"r_kp_20sig\"] = np.round(rt[\"r_kp\"].rolling(window = 20, center = False).std(), 5)\n",
        "rt[\"r_kp_40sig\"] = np.round(rt[\"r_kp\"].rolling(window = 40, center = False).std(), 5)\n",
        "\n",
        "rt.tail(10)"
      ],
      "execution_count": null,
      "outputs": []
    },
    {
      "cell_type": "markdown",
      "metadata": {
        "id": "esb5sVtn-0qY"
      },
      "source": [
        "### 변동성 지수"
      ]
    },
    {
      "cell_type": "code",
      "metadata": {
        "id": "r-w8uMdn-0qY"
      },
      "source": [
        "pr.corr()"
      ],
      "execution_count": null,
      "outputs": []
    },
    {
      "cell_type": "code",
      "metadata": {
        "id": "qm9JD6vk-0qZ"
      },
      "source": [
        "sns.heatmap(pr.corr(), annot=True, cmap=\"YlGnBu\")\n",
        "plt.show()"
      ],
      "execution_count": null,
      "outputs": []
    },
    {
      "cell_type": "code",
      "metadata": {
        "id": "cKIuoojz-0qZ"
      },
      "source": [
        "fig, axs = plt.subplots(4, 1, figsize=(15,10), constrained_layout=True)\n",
        "fig.suptitle('KOSPI, VIX, and Return', fontsize=18)\n",
        "\n",
        "axs[0].plot(pr.index, pr['KOSPI'], 'g-', label='KOSPI')\n",
        "#plt.xlabel('xlabel', fontsize=18)\n",
        "#plt.ylabel('ylabel', fontsize=16)\n",
        "axs[0].set_title('KOSPI')\n",
        "axs[0].legend(['KOSPI'])\n",
        "\n",
        "axs[1].plot(pr.index, pr['VIX'], 'r-')\n",
        "axs[1].set_title('VIX')\n",
        "\n",
        "axs[2].plot(rt.index, rt['r_kp'], 'b-')\n",
        "axs[2].set_title('KOSPI Return')\n",
        "\n",
        "axs[3].plot(rt.index, rt['r_kp_20sig'], 'p-')\n",
        "axs[3].set_title('Historical Volatility')"
      ],
      "execution_count": null,
      "outputs": []
    },
    {
      "cell_type": "markdown",
      "metadata": {
        "id": "bPY8NauH-0qa"
      },
      "source": [
        "## MA의 시각화 "
      ]
    },
    {
      "cell_type": "code",
      "metadata": {
        "id": "haLIkUXN-0qa"
      },
      "source": [
        "# 이제 그래프를 보아요 \n",
        "\n",
        "fig, axs = plt.subplots(4, 1, figsize=(15,10), constrained_layout=True)\n",
        "fig.suptitle('Stock, MA, STD', fontsize=16)\n",
        "\n",
        "\n",
        "\n",
        "axs[0].plot(pr['KOSPI'], 'r-', label='KOSPI')\n",
        "#plt.xlabel('xlabel', fontsize=18)\n",
        "#plt.ylabel('ylabel', fontsize=16)\n",
        "axs[0].plot(pr['kp_20ma'], 'g-', label='kp_20ma')\n",
        "axs[0].plot(pr['kp_40ma'], 'g-', label='kp_40ma')\n",
        "axs[0].set_title('KOSPI vs MA')\n",
        "axs[0].legend(['KOSPI', 'kp_20ma','kp_40ma'])\n",
        "\n",
        "#ax.set_xlim(0,205)  #x축 스케일 제한하고 싶을 때\n",
        "#ax.set_ylim(-60,60) # y 축 스케일 제한하고 싶을 때 \n",
        "\n",
        "#axs[0].set_xlabel('Date')\n",
        "#axs[0].set_ylabel('Damped oscillation')\n",
        "\n",
        "\n",
        "\n",
        "axs[1].plot(pr['kp_20sig'], 'b-')\n",
        "axs[1].plot(pr['kp_40sig'], 'g-')\n",
        "#axs[1].set_xlabel('Date')\n",
        "axs[1].set_title('Historical Volatility: Price')\n",
        "axs[1].legend(['kp_20sig','kp_40sig'])\n",
        "\n",
        "axs[2].plot(rt['r_kp'], 'g-')\n",
        "axs[2].plot(rt['r_kp_20ma'], 'b-')\n",
        "axs[2].plot(rt['r_kp_40ma'], 'r-')\n",
        "\n",
        "axs[2].set_title('Return')\n",
        "axs[2].legend(['r_kp'])\n",
        "\n",
        "\n",
        "axs[3].plot(rt['r_kp_20sig'], 'b-')\n",
        "axs[3].plot(rt['r_kp_40sig'], 'g-')\n",
        "axs[3].set_title('Historical Volatility: Return')\n",
        "axs[3].legend(['r_kp_20sig','r_kp_40sig'])\n",
        "\n",
        "#plt.show()\n",
        "\n",
        "#plt.savefig('C:/Users/CAU/eqt_ma.jpg', dpi=500)"
      ],
      "execution_count": null,
      "outputs": []
    },
    {
      "cell_type": "code",
      "metadata": {
        "id": "tvY2b0JV-0qa"
      },
      "source": [
        ""
      ],
      "execution_count": null,
      "outputs": []
    }
  ]
}